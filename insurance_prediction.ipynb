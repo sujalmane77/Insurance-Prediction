{
 "cells": [
  {
   "cell_type": "raw",
   "id": "4d02bc55-ef15-4a5e-b573-dad202b3137d",
   "metadata": {},
   "source": [
    "In this project we are using the insurance.csv dataset for prediction of charges an individual has to pay using for by providing his/her age \n",
    "and bmi as input parameters.I have used linear regression for single variable for the prediction.\n",
    "The dataset includes age sex bmi childeren smoker region and charges as the attributes for this data.\n"
   ]
  },
  {
   "cell_type": "code",
   "execution_count": 6,
   "id": "774ea617-3f9c-4995-817d-4973fa363d5c",
   "metadata": {},
   "outputs": [
    {
     "data": {
      "text/html": [
       "<div>\n",
       "<style scoped>\n",
       "    .dataframe tbody tr th:only-of-type {\n",
       "        vertical-align: middle;\n",
       "    }\n",
       "\n",
       "    .dataframe tbody tr th {\n",
       "        vertical-align: top;\n",
       "    }\n",
       "\n",
       "    .dataframe thead th {\n",
       "        text-align: right;\n",
       "    }\n",
       "</style>\n",
       "<table border=\"1\" class=\"dataframe\">\n",
       "  <thead>\n",
       "    <tr style=\"text-align: right;\">\n",
       "      <th></th>\n",
       "      <th>age</th>\n",
       "      <th>sex</th>\n",
       "      <th>bmi</th>\n",
       "      <th>children</th>\n",
       "      <th>smoker</th>\n",
       "      <th>region</th>\n",
       "      <th>charges</th>\n",
       "    </tr>\n",
       "  </thead>\n",
       "  <tbody>\n",
       "    <tr>\n",
       "      <th>0</th>\n",
       "      <td>19</td>\n",
       "      <td>female</td>\n",
       "      <td>27.900</td>\n",
       "      <td>0</td>\n",
       "      <td>yes</td>\n",
       "      <td>southwest</td>\n",
       "      <td>16884.92400</td>\n",
       "    </tr>\n",
       "    <tr>\n",
       "      <th>1</th>\n",
       "      <td>18</td>\n",
       "      <td>male</td>\n",
       "      <td>33.770</td>\n",
       "      <td>1</td>\n",
       "      <td>no</td>\n",
       "      <td>southeast</td>\n",
       "      <td>1725.55230</td>\n",
       "    </tr>\n",
       "    <tr>\n",
       "      <th>2</th>\n",
       "      <td>28</td>\n",
       "      <td>male</td>\n",
       "      <td>33.000</td>\n",
       "      <td>3</td>\n",
       "      <td>no</td>\n",
       "      <td>southeast</td>\n",
       "      <td>4449.46200</td>\n",
       "    </tr>\n",
       "    <tr>\n",
       "      <th>3</th>\n",
       "      <td>33</td>\n",
       "      <td>male</td>\n",
       "      <td>22.705</td>\n",
       "      <td>0</td>\n",
       "      <td>no</td>\n",
       "      <td>northwest</td>\n",
       "      <td>21984.47061</td>\n",
       "    </tr>\n",
       "    <tr>\n",
       "      <th>4</th>\n",
       "      <td>32</td>\n",
       "      <td>male</td>\n",
       "      <td>28.880</td>\n",
       "      <td>0</td>\n",
       "      <td>no</td>\n",
       "      <td>northwest</td>\n",
       "      <td>3866.85520</td>\n",
       "    </tr>\n",
       "    <tr>\n",
       "      <th>...</th>\n",
       "      <td>...</td>\n",
       "      <td>...</td>\n",
       "      <td>...</td>\n",
       "      <td>...</td>\n",
       "      <td>...</td>\n",
       "      <td>...</td>\n",
       "      <td>...</td>\n",
       "    </tr>\n",
       "    <tr>\n",
       "      <th>1333</th>\n",
       "      <td>50</td>\n",
       "      <td>male</td>\n",
       "      <td>30.970</td>\n",
       "      <td>3</td>\n",
       "      <td>no</td>\n",
       "      <td>northwest</td>\n",
       "      <td>10600.54830</td>\n",
       "    </tr>\n",
       "    <tr>\n",
       "      <th>1334</th>\n",
       "      <td>18</td>\n",
       "      <td>female</td>\n",
       "      <td>31.920</td>\n",
       "      <td>0</td>\n",
       "      <td>no</td>\n",
       "      <td>northeast</td>\n",
       "      <td>2205.98080</td>\n",
       "    </tr>\n",
       "    <tr>\n",
       "      <th>1335</th>\n",
       "      <td>18</td>\n",
       "      <td>female</td>\n",
       "      <td>36.850</td>\n",
       "      <td>0</td>\n",
       "      <td>no</td>\n",
       "      <td>southeast</td>\n",
       "      <td>1629.83350</td>\n",
       "    </tr>\n",
       "    <tr>\n",
       "      <th>1336</th>\n",
       "      <td>21</td>\n",
       "      <td>female</td>\n",
       "      <td>25.800</td>\n",
       "      <td>0</td>\n",
       "      <td>no</td>\n",
       "      <td>southwest</td>\n",
       "      <td>2007.94500</td>\n",
       "    </tr>\n",
       "    <tr>\n",
       "      <th>1337</th>\n",
       "      <td>61</td>\n",
       "      <td>female</td>\n",
       "      <td>29.070</td>\n",
       "      <td>0</td>\n",
       "      <td>yes</td>\n",
       "      <td>northwest</td>\n",
       "      <td>29141.36030</td>\n",
       "    </tr>\n",
       "  </tbody>\n",
       "</table>\n",
       "<p>1338 rows × 7 columns</p>\n",
       "</div>"
      ],
      "text/plain": [
       "      age     sex     bmi  children smoker     region      charges\n",
       "0      19  female  27.900         0    yes  southwest  16884.92400\n",
       "1      18    male  33.770         1     no  southeast   1725.55230\n",
       "2      28    male  33.000         3     no  southeast   4449.46200\n",
       "3      33    male  22.705         0     no  northwest  21984.47061\n",
       "4      32    male  28.880         0     no  northwest   3866.85520\n",
       "...   ...     ...     ...       ...    ...        ...          ...\n",
       "1333   50    male  30.970         3     no  northwest  10600.54830\n",
       "1334   18  female  31.920         0     no  northeast   2205.98080\n",
       "1335   18  female  36.850         0     no  southeast   1629.83350\n",
       "1336   21  female  25.800         0     no  southwest   2007.94500\n",
       "1337   61  female  29.070         0    yes  northwest  29141.36030\n",
       "\n",
       "[1338 rows x 7 columns]"
      ]
     },
     "execution_count": 6,
     "metadata": {},
     "output_type": "execute_result"
    }
   ],
   "source": [
    "#1) data collection \n",
    "import pandas as pd\n",
    "df=pd.read_csv('insurance.csv')\n",
    "df"
   ]
  },
  {
   "cell_type": "raw",
   "id": "95e0ee91-df94-48f8-97b0-ddb3a9870f22",
   "metadata": {},
   "source": [
    "This data has 1338 entries.Now check for if there exits any null values that sholud be removed."
   ]
  },
  {
   "cell_type": "code",
   "execution_count": 2,
   "id": "b5c402bd-e8f2-4363-ac16-989b562af7f4",
   "metadata": {},
   "outputs": [
    {
     "name": "stdout",
     "output_type": "stream",
     "text": [
      "Data Information:\n",
      "<class 'pandas.core.frame.DataFrame'>\n",
      "RangeIndex: 1338 entries, 0 to 1337\n",
      "Data columns (total 7 columns):\n",
      " #   Column    Non-Null Count  Dtype  \n",
      "---  ------    --------------  -----  \n",
      " 0   age       1338 non-null   int64  \n",
      " 1   sex       1338 non-null   object \n",
      " 2   bmi       1338 non-null   float64\n",
      " 3   children  1338 non-null   int64  \n",
      " 4   smoker    1338 non-null   object \n",
      " 5   region    1338 non-null   object \n",
      " 6   charges   1338 non-null   float64\n",
      "dtypes: float64(2), int64(2), object(3)\n",
      "memory usage: 73.3+ KB\n",
      "\n",
      "\n",
      "Data Description:\n",
      "               age          bmi     children       charges\n",
      "count  1338.000000  1338.000000  1338.000000   1338.000000\n",
      "mean     39.207025    30.663397     1.094918  13270.422265\n",
      "std      14.049960     6.098187     1.205493  12110.011237\n",
      "min      18.000000    15.960000     0.000000   1121.873900\n",
      "25%      27.000000    26.296250     0.000000   4740.287150\n",
      "50%      39.000000    30.400000     1.000000   9382.033000\n",
      "75%      51.000000    34.693750     2.000000  16639.912515\n",
      "max      64.000000    53.130000     5.000000  63770.428010\n",
      "\n",
      "\n",
      "Missing Values in Each Column:\n",
      "age         0\n",
      "sex         0\n",
      "bmi         0\n",
      "children    0\n",
      "smoker      0\n",
      "region      0\n",
      "charges     0\n",
      "dtype: int64\n"
     ]
    }
   ],
   "source": [
    "# 2)Data Cleaning\n",
    "print(\"Data Information:\")\n",
    "df.info()  # Provides column data types and non-null counts\n",
    "print(\"\\n\")\n",
    "\n",
    "print(\"Data Description:\")\n",
    "print(df.describe())  # Provides summary statistics for numerical columns\n",
    "print(\"\\n\")\n",
    "\n",
    "print(\"Missing Values in Each Column:\")\n",
    "print(df.isnull().sum())  # Shows the count of null values per column"
   ]
  },
  {
   "cell_type": "code",
   "execution_count": 3,
   "id": "3e5d97eb-294e-4175-afb3-2f4220f51569",
   "metadata": {},
   "outputs": [
    {
     "name": "stdout",
     "output_type": "stream",
     "text": [
      "Mean Age: 39.21 years\n",
      "Mean Charges: $13270.42\n",
      "Total Money Spent on Insurance: $17,755,824.99\n"
     ]
    }
   ],
   "source": [
    "import numpy as np\n",
    "\n",
    "# Extracting the required columns\n",
    "x = df['age']   \n",
    "y = df['charges']  \n",
    "\n",
    "# Calculating mean\n",
    "mean_x = x.mean()\n",
    "mean_y = y.mean()\n",
    "\n",
    "# Calculating total sum\n",
    "sum_x = x.sum()\n",
    "sum_y = y.sum()\n",
    "\n",
    "# Printing results\n",
    "print(f\"Mean Age: {mean_x:.2f} years\")  \n",
    "print(f\"Mean Charges: ${mean_y:.2f}\")  \n",
    "print(f\"Total Money Spent on Insurance: ${sum_y:,.2f}\")  # Formatting with commas\n"
   ]
  },
  {
   "cell_type": "code",
   "execution_count": 5,
   "id": "d26ef589-d94a-4098-b7c6-b06721d7dfe4",
   "metadata": {},
   "outputs": [
    {
     "data": {
      "image/png": "[encoded data removed]",
      "text/plain": [
       "<Figure size 640x480 with 1 Axes>"
      ]
     },
     "metadata": {},
     "output_type": "display_data"
    }
   ],
   "source": [
    "import matplotlib.pyplot as plt\n",
    "plt.scatter(x, y, label=\"Data points\", color='red')\n",
    "plt.xlabel('Age')\n",
    "plt.ylabel('Charges')\n",
    "plt.legend()\n",
    "plt.show()"
   ]
  },
  {
   "cell_type": "code",
   "execution_count": 4,
   "id": "c785119b-2320-4a31-8d9f-4789db509f06",
   "metadata": {},
   "outputs": [
    {
     "data": {
      "text/plain": [
       "<Axes: xlabel='age', ylabel='charges'>"
      ]
     },
     "execution_count": 4,
     "metadata": {},
     "output_type": "execute_result"
    },
    {
     "data": {
      "image/png": "[encoded data removed]",
      "text/plain": [
       "<Figure size 640x480 with 1 Axes>"
      ]
     },
     "metadata": {},
     "output_type": "display_data"
    }
   ],
   "source": [
    "import seaborn as sns\n",
    "df['age'] = pd.cut(df['age'], bins=[0, 20, 40, 60, 80, 100])\n",
    "sns.barplot(x=df['age'], y=df['charges'])"
   ]
  },
  {
   "cell_type": "code",
   "execution_count": 12,
   "id": "dec424e5-da4d-4233-a1e5-1cde8645a760",
   "metadata": {},
   "outputs": [
    {
     "name": "stdout",
     "output_type": "stream",
     "text": [
      "    age     bmi      charges\n",
      "0    19  27.900  16884.92400\n",
      "1    18  33.770   1725.55230\n",
      "2    28  33.000   4449.46200\n",
      "3    33  22.705  21984.47061\n",
      "4    32  28.880   3866.85520\n",
      "5    31  25.740   3756.62160\n",
      "6    46  33.440   8240.58960\n",
      "7    37  27.740   7281.50560\n",
      "8    37  29.830   6406.41070\n",
      "9    60  25.840  28923.13692\n",
      "10   25  26.220   2721.32080\n",
      "11   62  26.290  27808.72510\n",
      "12   23  34.400   1826.84300\n",
      "13   56  39.820  11090.71780\n",
      "14   27  42.130  39611.75770\n",
      "15   19  24.600   1837.23700\n",
      "16   52  30.780  10797.33620\n",
      "17   23  23.845   2395.17155\n",
      "18   56  40.300  10602.38500\n",
      "19   30  35.300  36837.46700\n"
     ]
    }
   ],
   "source": [
    "#using linaer regression on the dataset and predicting the charges.\n",
    "print(df[['age','bmi','charges']].head(20))"
   ]
  },
  {
   "cell_type": "code",
   "execution_count": null,
   "id": "d00f667d-f443-40ca-b280-62130ceecc14",
   "metadata": {},
   "outputs": [],
   "source": [
    "LINEAR REGRESSION USING AGE & CHARGES AND BMI & CHARGES."
   ]
  },
  {
   "cell_type": "code",
   "execution_count": 16,
   "id": "f7c7e9d2-1eb5-4ca6-ad01-55cec6ae613a",
   "metadata": {},
   "outputs": [],
   "source": [
    "import numpy as np"
   ]
  },
  {
   "cell_type": "code",
   "execution_count": null,
   "id": "87bd09b4-e750-4afc-8959-8d231491fb35",
   "metadata": {},
   "outputs": [
    {
     "name": "stdout",
     "output_type": "stream",
     "text": [
      "mean of age =  39.20702541106129  and charges =  13270.422265141257\n",
      "sum of age =  52459  and charges =  17755824.990759\n"
     ]
    }
   ],
   "source": [
    "#AGE AND CHARGES\n",
    "x = df['age']   \n",
    "y = df['charges']  \n",
    "mean_x=np.mean(x)\n",
    "mean_y=np.mean(y)\n",
    "print(\"mean of age = \",mean_x,\" and charges = $\",mean_y)\n",
    "sum_x=np.sum(x)\n",
    "sum_y=np.sum(y)\n",
    "print(\"sum of age = \",sum_x,\" and charges = $\",sum_y)"
   ]
  },
  {
   "cell_type": "code",
   "execution_count": 10,
   "id": "6e364864-8c1b-4336-98ae-57a193a8ff6d",
   "metadata": {},
   "outputs": [],
   "source": [
    "#CALCULATING SLOPE \n",
    "#b1\n",
    "nume=np.sum((x-mean_x)*(y-mean_y))  \n",
    "deno=np.sum((x-mean_x) ** 2)            \n",
    "b1=nume/deno  # Slope"
   ]
  },
  {
   "cell_type": "code",
   "execution_count": 11,
   "id": "2c295510-10d5-4acd-871e-d39e8715dbc5",
   "metadata": {},
   "outputs": [
    {
     "name": "stdout",
     "output_type": "stream",
     "text": [
      "257.7226186668955\n"
     ]
    }
   ],
   "source": [
    "#b1\n",
    "print(b1)"
   ]
  },
  {
   "cell_type": "code",
   "execution_count": 13,
   "id": "5c6efdf0-7ecd-406d-ac80-10536e4d19d6",
   "metadata": {},
   "outputs": [
    {
     "name": "stdout",
     "output_type": "stream",
     "text": [
      "3165.885006063025\n"
     ]
    }
   ],
   "source": [
    "#b0\n",
    "b0=mean_y-(b1*mean_x)\n",
    "print(b0)"
   ]
  },
  {
   "cell_type": "code",
   "execution_count": 18,
   "id": "fa70cadc-18c6-4aa8-8c07-697e511cf29a",
   "metadata": {},
   "outputs": [
    {
     "name": "stdout",
     "output_type": "stream",
     "text": [
      "enter the age: 80\n"
     ]
    },
    {
     "name": "stdout",
     "output_type": "stream",
     "text": [
      "Slope (b1): 257.7226186668955\n",
      "Intercept (b0): 3165.885006063025\n",
      "Prediction for charges when age is  80 years : $ 23783.694499414665\n"
     ]
    }
   ],
   "source": [
    "# 3)Making Pricdictions\n",
    "X_new =int(input(\"enter the age:\"))\n",
    "ans = b1 * X_new + b0\n",
    "print(\"Slope (b1):\", b1)\n",
    "print(\"Intercept (b0):\", b0)\n",
    "print(\"Prediction for charges when age is \",X_new,\"years : $\", ans)"
   ]
  },
  {
   "cell_type": "markdown",
   "id": "6e6e2729-cf16-4a4b-b8cd-184da74388f7",
   "metadata": {},
   "source": [
    "Finding the regression models accuracy"
   ]
  },
  {
   "cell_type": "code",
   "execution_count": 24,
   "id": "d3f4aeb9-d659-407a-8707-b7824528e895",
   "metadata": {},
   "outputs": [],
   "source": [
    "df = df.apply(lambda col: col.astype('category').cat.codes if col.dtypes == 'object' else col)"
   ]
  },
  {
   "cell_type": "code",
   "execution_count": 25,
   "id": "5613557c-9da1-462a-abae-fdb4ff220ef7",
   "metadata": {},
   "outputs": [],
   "source": [
    "# Define features (X) and target variable (y)\n",
    "X = df.drop(columns=['age'])  # Adjust column name as needed\n",
    "y = df['charges']"
   ]
  },
  {
   "cell_type": "code",
   "execution_count": 26,
   "id": "7ac26e4e",
   "metadata": {},
   "outputs": [
    {
     "name": "stdout",
     "output_type": "stream",
     "text": [
      "Linear Regression Accuracy of age & charges: 100.00%\n"
     ]
    }
   ],
   "source": [
    "\n",
    "# Import necessary libraries\n",
    "from sklearn.model_selection import train_test_split\n",
    "from sklearn.linear_model import LinearRegression\n",
    "from sklearn.metrics import r2_score\n",
    "\n",
    "# Split dataset into 80% training and 20% testing\n",
    "X_train, X_test, y_train, y_test = train_test_split(X, y, test_size=0.2, random_state=42)\n",
    "\n",
    "# Train Linear Regression Model\n",
    "lr_model = LinearRegression()\n",
    "lr_model.fit(X_train, y_train)\n",
    "\n",
    "# Make predictions\n",
    "y_pred = lr_model.predict(X_test)\n",
    "\n",
    "# Calculate accuracy using R² score and convert to percentage\n",
    "accuracy = r2_score(y_test, y_pred) * 100\n",
    "print(f\"Linear Regression Accuracy of age & charges: {accuracy:.2f}%\")\n"
   ]
  },
  {
   "cell_type": "code",
   "execution_count": null,
   "id": "bfdd145f-fb96-4f33-92b0-dedf67444d6d",
   "metadata": {},
   "outputs": [
    {
     "name": "stdout",
     "output_type": "stream",
     "text": [
      "mean of bmi =  30.66339686098655  and charges =  13270.422265141257\n",
      "sum of bmi =  41027.625  and charges =  17755824.990759\n"
     ]
    },
    {
     "name": "stdout",
     "output_type": "stream",
     "text": [
      "enter the bmi: 30\n"
     ]
    },
    {
     "name": "stdout",
     "output_type": "stream",
     "text": [
      "Slope (b1): 393.8730307973952\n",
      "Intercept (b0): 1192.9372089611516\n",
      "Prediction for charges when bmi is  30  :$ 13009.128132883006\n"
     ]
    }
   ],
   "source": [
    "# AGE AND BMI\n",
    "#AGE AND CHARGES\n",
    "x1 = df['bmi']   \n",
    "y1 = df['charges']  \n",
    "mean_x1=np.mean(x1)\n",
    "mean_y1=np.mean(y1)\n",
    "print(\"mean of bmi = \",mean_x1,\" and charges = $\",mean_y1)\n",
    "sum_x1=np.sum(x1)\n",
    "sum_y1=np.sum(y1)\n",
    "print(\"sum of bmi = \",sum_x1,\" and charges = $\",sum_y1)\n",
    "#CALCULATING SLOPE \n",
    "#b1\n",
    "nume1=np.sum((x1-mean_x1)*(y-mean_y1))  \n",
    "deno1=np.sum((x1-mean_x1) ** 2)            \n",
    "B1=nume1/deno1  # Slope\n",
    "#b0\n",
    "B0=mean_y1-(B1*mean_x1)\n",
    "# 3)Making Pricdictions\n",
    "X_new1 =int(input(\"enter the bmi:\"))\n",
    "ans1 = B1 * X_new1 + B0\n",
    "print(\"Slope (b1):\", B1)\n",
    "print(\"Intercept (b0):\", B0)\n",
    "print(\"Prediction for charges when bmi is \",X_new1,\" :$\", ans1)"
   ]
  }
 ],
 "metadata": {
  "kernelspec": {
   "display_name": "Python 3 (ipykernel)",
   "language": "python",
   "name": "python3"
  },
  "language_info": {
   "codemirror_mode": {
    "name": "ipython",
    "version": 3
   },
   "file_extension": ".py",
   "mimetype": "text/x-python",
   "name": "python",
   "nbconvert_exporter": "python",
   "pygments_lexer": "ipython3",
   "version": "3.12.1"
  }
 },
 "nbformat": 4,
 "nbformat_minor": 5
}
